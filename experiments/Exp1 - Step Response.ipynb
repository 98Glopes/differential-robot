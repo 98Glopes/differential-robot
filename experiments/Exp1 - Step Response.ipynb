{
 "cells": [
  {
   "cell_type": "markdown",
   "id": "adjustable-enforcement",
   "metadata": {},
   "source": [
    "## Exp1 - Step Response"
   ]
  },
  {
   "cell_type": "code",
   "execution_count": 1,
   "id": "southwest-going",
   "metadata": {},
   "outputs": [
    {
     "name": "stdout",
     "output_type": "stream",
     "text": [
      "/home/gabriel/kdr\n"
     ]
    }
   ],
   "source": [
    "%cd /home/gabriel/kdr\n",
    "import numpy as np\n",
    "import matplotlib.pyplot as plt\n",
    "import cv2\n",
    "\n",
    "from differential_robot import DifferentialRobot\n",
    "\n",
    "%matplotlib inline"
   ]
  },
  {
   "cell_type": "markdown",
   "id": "prompt-infrastructure",
   "metadata": {},
   "source": [
    "### Simulation details"
   ]
  },
  {
   "cell_type": "code",
   "execution_count": 16,
   "id": "defensive-beauty",
   "metadata": {},
   "outputs": [],
   "source": [
    "sample_time = 0.001 # [s]\n",
    "simulation_time = 20 # [s]\n",
    "simulation_steps = int(simulation_time / sample_time)"
   ]
  },
  {
   "cell_type": "markdown",
   "id": "handed-baltimore",
   "metadata": {},
   "source": [
    "### Inputs signal"
   ]
  },
  {
   "cell_type": "code",
   "execution_count": 37,
   "id": "bulgarian-jason",
   "metadata": {},
   "outputs": [],
   "source": [
    "signal_w_left = [1 for _ in range(simulation_steps)]\n",
    "signal_w_right = [1 for _ in range(simulation_steps)]"
   ]
  },
  {
   "cell_type": "code",
   "execution_count": 31,
   "id": "close-tuition",
   "metadata": {},
   "outputs": [
    {
     "data": {
      "image/png": "[encoded data removed]",
      "text/plain": [
       "<Figure size 1080x216 with 2 Axes>"
      ]
     },
     "metadata": {
      "needs_background": "light"
     },
     "output_type": "display_data"
    }
   ],
   "source": [
    "fig, (ax1, ax2) = plt.subplots(nrows=1, ncols=2, figsize=(15,3))\n",
    "ax1.set_ylim((0,1.1))\n",
    "ax1.set_title(\"w_left\")\n",
    "ax1.plot(range(simulation_steps), signal_w_left)\n",
    "\n",
    "ax2.set_ylim((0,1.1))\n",
    "ax2.set_title(\"w_right\")\n",
    "ax2.plot(range(simulation_steps), signal_w_right)\n",
    "plt.show()"
   ]
  },
  {
   "cell_type": "markdown",
   "id": "surface-catholic",
   "metadata": {},
   "source": [
    "### Simulation"
   ]
  },
  {
   "cell_type": "code",
   "execution_count": 45,
   "id": "driven-lafayette",
   "metadata": {},
   "outputs": [],
   "source": [
    "robot = DifferentialRobot(0, 0, 0, sample_time, 0.025, 0.01)\n",
    "path = []\n",
    "for w_left, w_right in zip(signal_w_left, signal_w_right):\n",
    "    \n",
    "    robot.step(w_left, w_right)\n",
    "    state = robot.state()\n",
    "    \n",
    "    path.append(state)"
   ]
  },
  {
   "cell_type": "code",
   "execution_count": 46,
   "id": "mature-bread",
   "metadata": {},
   "outputs": [],
   "source": [
    "path = np.array(path)"
   ]
  },
  {
   "cell_type": "code",
   "execution_count": 48,
   "id": "bulgarian-preparation",
   "metadata": {},
   "outputs": [
    {
     "data": {
      "image/png": "[encoded data removed]",
      "text/plain": [
       "<Figure size 720x720 with 1 Axes>"
      ]
     },
     "metadata": {
      "needs_background": "light"
     },
     "output_type": "display_data"
    }
   ],
   "source": [
    "plt.figure(figsize=(10, 10))\n",
    "plt.title('XY robot position - equal velocities')\n",
    "plt.ylim(-0.2, 1)\n",
    "plt.xlim(-0.2, 1)\n",
    "plt.scatter(path[:,0], path[:,1])\n",
    "plt.show()"
   ]
  },
  {
   "cell_type": "code",
   "execution_count": null,
   "id": "organizational-navigation",
   "metadata": {},
   "outputs": [],
   "source": []
  },
  {
   "cell_type": "code",
   "execution_count": null,
   "id": "adaptive-presentation",
   "metadata": {},
   "outputs": [],
   "source": []
  }
 ],
 "metadata": {
  "kernelspec": {
   "display_name": "Python 3",
   "language": "python",
   "name": "python3"
  },
  "language_info": {
   "codemirror_mode": {
    "name": "ipython",
    "version": 3
   },
   "file_extension": ".py",
   "mimetype": "text/x-python",
   "name": "python",
   "nbconvert_exporter": "python",
   "pygments_lexer": "ipython3",
   "version": "3.8.5"
  }
 },
 "nbformat": 4,
 "nbformat_minor": 5
}
